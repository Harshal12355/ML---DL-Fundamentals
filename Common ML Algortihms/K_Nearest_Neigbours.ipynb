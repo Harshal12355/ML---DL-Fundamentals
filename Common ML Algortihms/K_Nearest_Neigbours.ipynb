{
 "cells": [
  {
   "cell_type": "markdown",
   "metadata": {},
   "source": [
    "# Implementing K Nearest Neighbours"
   ]
  },
  {
   "cell_type": "code",
   "execution_count": 1,
   "metadata": {},
   "outputs": [],
   "source": [
    "import numpy as np \n",
    "import matplotlib.pyplot as plt"
   ]
  },
  {
   "cell_type": "code",
   "execution_count": 7,
   "metadata": {},
   "outputs": [],
   "source": [
    "def calculate_distance(point1, point2):\n",
    "    return np.sqrt(np.sum((np.array(point1) - np.array(point2))**2))\n"
   ]
  },
  {
   "cell_type": "code",
   "execution_count": 8,
   "metadata": {},
   "outputs": [],
   "source": [
    "def k_nearest_neighbours(query_point, data, labels, k):\n",
    "    distance_list = []\n",
    "    for i in range(len(data)):\n",
    "        distance = calculate_distance(query_point, data[i])\n",
    "        distance_list.append((distance, labels[i]))\n",
    "    \n",
    "    distance_list.sort(key=(lambda x : x[0]))\n",
    "    k_points = distance_list[:k]\n",
    "    return k_points"
   ]
  },
  {
   "cell_type": "code",
   "execution_count": 9,
   "metadata": {},
   "outputs": [],
   "source": [
    "def predict_value(query_point, data, values, k):\n",
    "    nearest_neighbours = k_nearest_neighbours(query_point, data, values, k)\n",
    "    return np.mean(nearest_neighbours)"
   ]
  },
  {
   "cell_type": "code",
   "execution_count": 10,
   "metadata": {},
   "outputs": [],
   "source": [
    "from collections import Counter\n",
    "\n",
    "# Step 3: Make a Prediction for Classification\n",
    "def predict_class(query_point, data, labels, k):\n",
    "    # Get the k nearest neighbors\n",
    "    neighbors = k_nearest_neighbours(query_point, data, labels, k)\n",
    "    \n",
    "    # Count the occurrences of each class label among the neighbors\n",
    "    label_counts = Counter(neighbors)\n",
    "    \n",
    "    # Return the most common label (majority vote)\n",
    "    return label_counts.most_common(1)[0][0]"
   ]
  },
  {
   "cell_type": "code",
   "execution_count": 11,
   "metadata": {},
   "outputs": [],
   "source": [
    "def evaluate_knn(data, labels, test_data, test_labels, k, is_classification=True):\n",
    "    predictions = []\n",
    "    for i in range(len(test_data)):\n",
    "        if is_classification:\n",
    "            pred = predict_class(test_data[i], data, labels, k)\n",
    "        else:\n",
    "            pred = predict_value(test_data[i], data, labels, k)\n",
    "        predictions.append(pred)\n",
    "    \n",
    "    if is_classification:\n",
    "        accuracy = sum(1 for i in range(len(test_labels)) if predictions[i] == test_labels[i]) / len(test_labels)\n",
    "        return accuracy\n",
    "    else:\n",
    "        mse = np.mean((np.array(predictions) - np.array(test_labels)) ** 2)\n",
    "        return mse"
   ]
  },
  {
   "cell_type": "code",
   "execution_count": 12,
   "metadata": {},
   "outputs": [
    {
     "name": "stdout",
     "output_type": "stream",
     "text": [
      "Predicted Class: (np.float64(1.0), 'A')\n",
      "Predicted Value: 1.740440114519881\n",
      "Accuracy: 0.0\n",
      "Mean Squared Error: 2.0336754156841628\n"
     ]
    }
   ],
   "source": [
    "# Example Usage (Classification)\n",
    "# Let's say you have a dataset with points and labels\n",
    "data = [[1, 2], [2, 3], [3, 3], [6, 8], [7, 9], [8, 8]]\n",
    "labels = ['A', 'A', 'A', 'B', 'B', 'B']\n",
    "query_point = [3, 4]\n",
    "\n",
    "# Predict class for the query point\n",
    "k = 3\n",
    "predicted_class = predict_class(query_point, data, labels, k)\n",
    "print(\"Predicted Class:\", predicted_class)\n",
    "\n",
    "# Example Usage (Regression)\n",
    "# Let's say you have data points with continuous values instead of labels\n",
    "values = [1.5, 1.7, 2.0, 6.0, 6.5, 7.0]\n",
    "predicted_value = predict_value(query_point, data, values, k)\n",
    "print(\"Predicted Value:\", predicted_value)\n",
    "\n",
    "# Evaluating the model on test data (Example for Classification)\n",
    "test_data = [[1, 2], [2, 4], [3, 2], [8, 9]]\n",
    "test_labels = ['A', 'A', 'A', 'B']\n",
    "accuracy = evaluate_knn(data, labels, test_data, test_labels, k, is_classification=True)\n",
    "print(\"Accuracy:\", accuracy)\n",
    "\n",
    "# Example Evaluation for Regression (using continuous values as labels)\n",
    "test_values = [1.4, 1.6, 1.8, 6.8]\n",
    "mse = evaluate_knn(data, values, test_data, test_values, k, is_classification=False)\n",
    "print(\"Mean Squared Error:\", mse)"
   ]
  }
 ],
 "metadata": {
  "kernelspec": {
   "display_name": "venv",
   "language": "python",
   "name": "python3"
  },
  "language_info": {
   "codemirror_mode": {
    "name": "ipython",
    "version": 3
   },
   "file_extension": ".py",
   "mimetype": "text/x-python",
   "name": "python",
   "nbconvert_exporter": "python",
   "pygments_lexer": "ipython3",
   "version": "3.10.11"
  }
 },
 "nbformat": 4,
 "nbformat_minor": 2
}
